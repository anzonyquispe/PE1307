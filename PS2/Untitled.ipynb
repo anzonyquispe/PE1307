{
 "cells": [
  {
   "cell_type": "code",
   "execution_count": 6,
   "metadata": {},
   "outputs": [],
   "source": [
    "import pandas as pd\n",
    "import geopandas as gpd\n",
    "from dbfread import DBF"
   ]
  },
  {
   "cell_type": "code",
   "execution_count": 8,
   "metadata": {},
   "outputs": [],
   "source": [
    "# Import shapefile\n",
    "shp = gpd.read_file( r\"..\\_data\\Boundaries - Community Areas (current)\\geo_export_c70de887-6264-4a56-8002-525083272f7a.shp\" )"
   ]
  },
  {
   "cell_type": "code",
   "execution_count": 9,
   "metadata": {},
   "outputs": [],
   "source": [
    "# Impor data\n",
    "db_in_dbf = DBF( r\"..\\_data\\airbnb_Chicago 2015.dbf\" )\n",
    "df = pd.DataFrame(db_in_dbf )"
   ]
  },
  {
   "cell_type": "code",
   "execution_count": 11,
   "metadata": {},
   "outputs": [],
   "source": [
    "# Per thousand\n",
    "df['num_theft_mil'] = df.num_theft * 1000 / df.population\n",
    "df['num_crim_mil'] = df.num_crimes * 1000 / df.population\n",
    "df['num_spot_mil'] = df.num_spots * 1000 / df.population"
   ]
  },
  {
   "cell_type": "code",
   "execution_count": 14,
   "metadata": {},
   "outputs": [],
   "source": [
    "shp1 = shp.merge( df, on = 'community', how = \"left\")"
   ]
  },
  {
   "cell_type": "code",
   "execution_count": 15,
   "metadata": {},
   "outputs": [
    {
     "name": "stderr",
     "output_type": "stream",
     "text": [
      "c:\\python\\python38\\lib\\site-packages\\geopandas\\io\\file.py:299: FutureWarning: pandas.Int64Index is deprecated and will be removed from pandas in a future version. Use pandas.Index with the appropriate dtype instead.\n",
      "  pd.Int64Index,\n",
      "<ipython-input-15-c10ae54b8146>:1: UserWarning: Column names longer than 10 characters will be truncated when saved to ESRI Shapefile.\n",
      "  shp1.to_file( r\"..\\_data\\chicago_result/chicago_result.shp\" )\n"
     ]
    }
   ],
   "source": [
    "shp1.to_file( r\"..\\_data\\chicago_result/chicago_result.shp\" )"
   ]
  },
  {
   "cell_type": "code",
   "execution_count": 19,
   "metadata": {},
   "outputs": [],
   "source": [
    "import seaborn as sns"
   ]
  },
  {
   "cell_type": "code",
   "execution_count": 27,
   "metadata": {},
   "outputs": [
    {
     "data": {
      "text/plain": [
       "Index(['area', 'area_num_1', 'area_numbe', 'comarea', 'comarea_id',\n",
       "       'community', 'perimeter', 'shape_area_x', 'shape_len_x', 'geometry',\n",
       "       'shape_area_y', 'shape_len_y', 'AREAID', 'response_r', 'accept_r',\n",
       "       'rev_rating', 'price_pp', 'room_type', 'num_spots', 'poverty',\n",
       "       'crowded', 'dependency', 'without_hs', 'unemployed', 'income_pc',\n",
       "       'harship_in', 'num_crimes', 'num_theft', 'population', 'num_theft_mil',\n",
       "       'num_crim_mil', 'num_spot_mil'],\n",
       "      dtype='object')"
      ]
     },
     "execution_count": 27,
     "metadata": {},
     "output_type": "execute_result"
    }
   ],
   "source": [
    "shp1.columns"
   ]
  },
  {
   "cell_type": "code",
   "execution_count": 30,
   "metadata": {},
   "outputs": [
    {
     "data": {
      "text/plain": [
       "<AxesSubplot:xlabel='without_hs', ylabel='price_pp'>"
      ]
     },
     "execution_count": 30,
     "metadata": {},
     "output_type": "execute_result"
    },
    {
     "data": {
      "image/png": "[encoded data removed]",
      "text/plain": [
       "<Figure size 432x288 with 1 Axes>"
      ]
     },
     "metadata": {
      "needs_background": "light"
     },
     "output_type": "display_data"
    }
   ],
   "source": [
    "sns.scatterplot(data=shp1 , y=\"price_pp\", x=\"without_hs\")"
   ]
  },
  {
   "cell_type": "code",
   "execution_count": 17,
   "metadata": {},
   "outputs": [
    {
     "data": {
      "text/plain": [
       "0     18.2\n",
       "1     28.7\n",
       "2     33.9\n",
       "3     24.3\n",
       "4     15.7\n",
       "      ... \n",
       "72     8.7\n",
       "73    15.0\n",
       "74     7.1\n",
       "75     9.2\n",
       "76     6.5\n",
       "Name: unemployed, Length: 77, dtype: float64"
      ]
     },
     "execution_count": 17,
     "metadata": {},
     "output_type": "execute_result"
    }
   ],
   "source": [
    "shp1.unemployed"
   ]
  }
 ],
 "metadata": {
  "hide_input": false,
  "kernelspec": {
   "display_name": "Python 3",
   "language": "python",
   "name": "python3"
  },
  "language_info": {
   "codemirror_mode": {
    "name": "ipython",
    "version": 3
   },
   "file_extension": ".py",
   "mimetype": "text/x-python",
   "name": "python",
   "nbconvert_exporter": "python",
   "pygments_lexer": "ipython3",
   "version": "3.8.6"
  },
  "toc": {
   "base_numbering": 1,
   "nav_menu": {},
   "number_sections": true,
   "sideBar": true,
   "skip_h1_title": false,
   "title_cell": "Table of Contents",
   "title_sidebar": "Contents",
   "toc_cell": false,
   "toc_position": {},
   "toc_section_display": true,
   "toc_window_display": false
  }
 },
 "nbformat": 4,
 "nbformat_minor": 4
}
