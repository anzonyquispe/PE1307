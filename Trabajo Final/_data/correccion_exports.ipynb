{
 "cells": [
  {
   "cell_type": "code",
   "execution_count": 4,
   "metadata": {},
   "outputs": [],
   "source": [
    "import pandas as pd\n",
    "import geopandas as gpd"
   ]
  },
  {
   "cell_type": "code",
   "execution_count": 5,
   "metadata": {},
   "outputs": [],
   "source": [
    "df1 = pd.read_csv(r\"C:\\Users\\estef\\Desktop\\San Andrés\\2022\\2do trimestre\\Herramientas computacionales para investigación\\PE1307\\Trabajo Final\\_data\\exports.csv\", encoding ='utf-8')"
   ]
  },
  {
   "cell_type": "code",
   "execution_count": 6,
   "metadata": {},
   "outputs": [],
   "source": [
    "df2 = gpd.read_file(r\"C:\\Users\\estef\\Desktop\\San Andrés\\2022\\2do trimestre\\Herramientas computacionales para investigación\\PE1307\\Trabajo Final\\_data\\murdock_shapefile\\borders_tribes.shp\")"
   ]
  },
  {
   "cell_type": "code",
   "execution_count": 11,
   "metadata": {},
   "outputs": [],
   "source": [
    "df = df1.merge(df2, left_on='murdock_name', right_on='NAME')"
   ]
  },
  {
   "cell_type": "code",
   "execution_count": 12,
   "metadata": {},
   "outputs": [],
   "source": [
    "df.to_csv('exports_corregido.csv', index=False)"
   ]
  }
 ],
 "metadata": {
  "kernelspec": {
   "display_name": "Python 3.9.5 64-bit",
   "language": "python",
   "name": "python3"
  },
  "language_info": {
   "codemirror_mode": {
    "name": "ipython",
    "version": 3
   },
   "file_extension": ".py",
   "mimetype": "text/x-python",
   "name": "python",
   "nbconvert_exporter": "python",
   "pygments_lexer": "ipython3",
   "version": "3.9.5"
  },
  "orig_nbformat": 4,
  "vscode": {
   "interpreter": {
    "hash": "9fc60a1a7d80b86d6d56291b635a481a23b7dc0f4173f3378d0b93cb49e32990"
   }
  }
 },
 "nbformat": 4,
 "nbformat_minor": 2
}
