{
 "cells": [
  {
   "cell_type": "markdown",
   "metadata": {},
   "source": [
    "# PS3"
   ]
  },
  {
   "cell_type": "code",
   "execution_count": 927,
   "metadata": {},
   "outputs": [],
   "source": [
    "from bs4 import BeautifulSoup\n",
    "import requests\n",
    "import seaborn as sns\n",
    "import matplotlib.pyplot as plt\n",
    "import numpy as np\n",
    "import pandas as pd\n",
    "from sodapy import Socrata\n",
    "import geopandas as gpd"
   ]
  },
  {
   "cell_type": "markdown",
   "metadata": {},
   "source": [
    "## Getting Information of Crime using Socrata API"
   ]
  },
  {
   "cell_type": "code",
   "execution_count": 932,
   "metadata": {},
   "outputs": [],
   "source": [
    "# Unauthenticated client only works with public data sets. Note 'None'\n",
    "# in place of application token, and no username or password:\n",
    "# client = Socrata(\"odn.data.socrata.com\", None)\n",
    "\n",
    "# Define App token\n",
    "app_token = \"0LMFzQvyVsDSPEu2ENiNZfEjV\"\n",
    "\n",
    "# Example authenticated client (needed for non-public datasets):\n",
    "client = Socrata(\"odn.data.socrata.com\",\n",
    "                 app_token,\n",
    "                 username=\"anzony.quispe@gmail.com\",\n",
    "                 password=\"Godisnotdead100\")\n",
    "\n",
    "# First 2000 results, returned as JSON from API / converted to Python list of\n",
    "# dictionaries by sodapy.\n",
    "results = client.get(\"tt5s-y5fc\", limit=50000)\n",
    "\n",
    "# Convert to pandas DataFrame\n",
    "results_df = pd.DataFrame.from_records(results)"
   ]
  },
  {
   "cell_type": "code",
   "execution_count": 933,
   "metadata": {},
   "outputs": [
    {
     "name": "stdout",
     "output_type": "stream",
     "text": [
      "[' MD' ' VA' ' DC']\n"
     ]
    }
   ],
   "source": [
    "# Keep 2015 rows\n",
    "api_df = results_df[ results_df.year == \"2015\" ].copy()\n",
    "\n",
    "# Spliting name columns\n",
    "split_df = api_df.name.str.split( pat = ',', expand = True )\n",
    "split_df.columns = [ 'city', 'state' ]\n",
    "\n",
    "# Merging both dataframes\n",
    "api_df = api_df.join( split_df ).copy()\n",
    "\n",
    "# Checking unique values\n",
    "print( api_df.state.unique() )\n",
    "\n",
    "# We see there are blanks in unique values we want to drop those blanks\n",
    "api_df['state'] = api_df.state.str.replace( \" \", \"\")\n",
    "\n",
    "# We want to keep only MD state\n",
    "api_df_md = api_df[api_df.state == 'MD'].copy()"
   ]
  },
  {
   "cell_type": "code",
   "execution_count": 934,
   "metadata": {},
   "outputs": [],
   "source": [
    "# converting crime_count string to float\n",
    "api_df_md['crime_count'] = api_df_md.crime_count.astype(float)\n",
    "\n",
    "# Get GEOID\n",
    "api_df_md['GEOID'] = api_df_md.id.str[9:]\n",
    "\n",
    "# Sum total crimes at geoid, year, month and incident_parent_type\n",
    "df = api_df_md.groupby([ 'GEOID', 'year', 'month', 'incident_parent_type' ], as_index= False)['crime_count'].sum()\n",
    "\n",
    "# Modifying incident_parent_type variable\n",
    "df['incident_parent_type'] = df.incident_parent_type.str.lower() \\\n",
    "                            .str.replace(\" \", \"_\")\n",
    "\n",
    "# From long to wide\n",
    "reshape_df = df.pivot( index = [ 'GEOID', \"year\", \"month\" ], columns = ['incident_parent_type'] )[['crime_count']].reset_index()"
   ]
  },
  {
   "cell_type": "code",
   "execution_count": 935,
   "metadata": {},
   "outputs": [],
   "source": [
    "# Following instructions we replace null values with 0\n",
    "# It is not the best approach, but we have to do it\n",
    "reshape_df.fillna( 0, inplace = True)"
   ]
  },
  {
   "cell_type": "markdown",
   "metadata": {},
   "source": [
    "## Scraping Zip Codes"
   ]
  },
  {
   "cell_type": "markdown",
   "metadata": {},
   "source": [
    "Importing Data"
   ]
  },
  {
   "cell_type": "code",
   "execution_count": 936,
   "metadata": {},
   "outputs": [],
   "source": [
    "# Get Information from ZipCode\n",
    "# Request data\n",
    "URL = \"https://www.zipcodestogo.com/Maryland\"\n",
    "headers = {\n",
    "    \"User-Agent\": \"Mozilla/5.0 (X11; Linux x86_64; rv:60.0) Gecko/20100101 Firefox/60.0\"\n",
    "}\n",
    "web_page = requests.get(URL, headers=headers)\n",
    "# html = BeautifulSoup(web_page.content, 'html.parser')"
   ]
  },
  {
   "cell_type": "markdown",
   "metadata": {},
   "source": [
    "Cleaning Table"
   ]
  },
  {
   "cell_type": "code",
   "execution_count": 937,
   "metadata": {},
   "outputs": [],
   "source": [
    "# Read all available tables in the page\n",
    "# Select the table you want\n",
    "zip_table = pd.read_html( web_page.content )[1]\n",
    "\n",
    "# Drop the first two rows\n",
    "zip_table = zip_table.drop( [0, 1] )\n",
    "\n",
    "# Give column names\n",
    "zip_table.columns = ['zip_code', 'city', 'county', 'zip_code_map']\n",
    "\n",
    "# Drop duplicated rows\n",
    "zip_table1 = zip_table.drop_duplicates( subset= 'zip_code')"
   ]
  },
  {
   "cell_type": "markdown",
   "metadata": {},
   "source": [
    "After cleaning data of zips and dataset of crime, I want to inspect that both datasets have the same number of cities or at least, zip data should have more cities than dataset of crimes."
   ]
  },
  {
   "cell_type": "code",
   "execution_count": 938,
   "metadata": {},
   "outputs": [
    {
     "data": {
      "text/plain": [
       "False"
      ]
     },
     "execution_count": 938,
     "metadata": {},
     "output_type": "execute_result"
    }
   ],
   "source": [
    "# Getting the number of cities\n",
    "n_cities_crime = api_df_md.city.unique().size\n",
    "n_cities_zip = zip_table1.city.unique().size \n",
    "n_cities_zip >= n_cities_crime"
   ]
  },
  {
   "cell_type": "markdown",
   "metadata": {},
   "source": [
    "The inspection shows that crime data have more number of cities. It means the zip code data is incomplete. The objective of the assignment is to generate maps at the county level. It implies to  get weather information from the county median zip code, and aggregating city crime data at the county level. \n",
    "We identified the GEOID as a fixed id for the USA government shapefiles. Then, we noticed the ACS-5 year 2015 survey has this information. Using [this link](https://www2.census.gov/geo/tiger/TIGER2015/), we took shapefiles at 5-digit zipcode, places, and county levels. Our procedure is as follows:\n",
    "1. We identified each zipcode and city with their corresponding county.\n",
    "2. We get the median zip code and ensure that this median zip code exists. If it does not exist, we tried to replace it with any available zip code of their corresponding county.\n",
    "3. We request weather data using API using the median zip code.\n",
    "4. We aggregate crime data using GEOID after identifying their corresponding count.\n",
    "5. We generate percapita crime data using the shapefile from [this link](https://hub.arcgis.com/datasets/23e45d260aba40fcb733361f5e236dd7_4).\n",
    "6. We merge all data using county id."
   ]
  },
  {
   "cell_type": "markdown",
   "metadata": {},
   "source": [
    "## Merge City and Zipcode names with Counties"
   ]
  },
  {
   "cell_type": "code",
   "execution_count": 939,
   "metadata": {},
   "outputs": [],
   "source": [
    "# Get the county level shapefile for all USA\n",
    "county_us = gpd.read_file( r\"..\\_data\\tl_2015_us_county\\tl_2015_us_county.shp\")\n",
    "# We keep MD state\n",
    "county_md = county_us[county_us.STATEFP == \"24\"].copy()"
   ]
  },
  {
   "cell_type": "code",
   "execution_count": 940,
   "metadata": {},
   "outputs": [
    {
     "name": "stderr",
     "output_type": "stream",
     "text": [
      "c:\\python\\python38\\lib\\site-packages\\geopandas\\io\\file.py:299: FutureWarning: pandas.Int64Index is deprecated and will be removed from pandas in a future version. Use pandas.Index with the appropriate dtype instead.\n",
      "  pd.Int64Index,\n"
     ]
    }
   ],
   "source": [
    "# Generate a folder\n",
    "import os\n",
    "newpath = r'..\\_data\\tl_2015_24_county' \n",
    "if not os.path.exists(newpath):\n",
    "    os.makedirs(newpath)\n",
    "# Export MD county level shapefile in case we need it\n",
    "county_md.to_file( r\"..\\_data\\tl_2015_24_county\\tl_2015_24_county.shp\" )"
   ]
  },
  {
   "cell_type": "code",
   "execution_count": 941,
   "metadata": {},
   "outputs": [],
   "source": [
    "# Import cities shapefile\n",
    "places15md = gpd.read_file( r\"..\\_data\\tl_2015_24_place\\tl_2015_24_place.shp\" )\n",
    "\n",
    "# The main idea is to intersect centroids of Cities with shapefiles of Counties\n",
    "# To know the CRS of this shapefile let use\n",
    "places15md.crs\n",
    "\n",
    "# flat projection\n",
    "data_proj = places15md.to_crs(\"EPSG:3035\")\n",
    "#centroids in EPSG:4326\n",
    "centroids_lat_lon = data_proj.geometry.centroid.to_crs( \"EPSG:4269\" )\n",
    "centroids_lat_lon\n",
    "\n",
    "# Get coordinates of centroids\n",
    "places15md['Latitude_ctr'] = centroids_lat_lon.y\n",
    "places15md['Longitude_ctr'] = centroids_lat_lon.x\n",
    "\n",
    "# Centroids of cities\n",
    "ctr_cities = pd.DataFrame( { 'GEOID' : places15md.GEOID.values, 'Latitude_ctr' : centroids_lat_lon.y, 'Longitude_ctr' : centroids_lat_lon.x})\n",
    "\n",
    "# We generate a geopandas with Centroids\n",
    "ctr_cities_geo = gpd.GeoDataFrame( ctr_cities , geometry= gpd.points_from_xy(ctr_cities.Longitude_ctr, ctr_cities.Latitude_ctr))\n",
    "ctr_cities_geo = ctr_cities_geo.set_crs(\"EPSG:4269\")\n",
    "\n",
    "# we intersect centroids with counties\n",
    "county_md_intersection = gpd.overlay( ctr_cities_geo , county_md , how='intersection')"
   ]
  },
  {
   "cell_type": "code",
   "execution_count": 942,
   "metadata": {},
   "outputs": [],
   "source": [
    "# for this case we do not need the centroids we use representative point\n",
    "# A point that is inside the polygon\n",
    "repre_places = places15md.representative_point()\n",
    "\n",
    "# Add these values to the main data set\n",
    "places15md['Latitude_repre'] = repre_places.y\n",
    "places15md['Longitude_repre'] = repre_places.x"
   ]
  },
  {
   "cell_type": "code",
   "execution_count": 943,
   "metadata": {},
   "outputs": [],
   "source": [
    "# Centroids of cities\n",
    "repre_cities = pd.DataFrame( { 'GEOID' : places15md.GEOID.values, 'Latitude_repre' : repre_places.y, 'Longitude_repre' : repre_places.x})\n",
    "\n",
    "# We generate a geopandas with Centroids\n",
    "repre_cities_geo = gpd.GeoDataFrame( repre_cities , geometry= gpd.points_from_xy(repre_cities.Longitude_repre, repre_cities.Latitude_repre))\n",
    "repre_cities_geo = repre_cities_geo.set_crs(\"EPSG:4269\")\n",
    "\n",
    "# we intersect cities centroids with counties\n",
    "county_md_intersection = gpd.overlay( repre_cities_geo , county_md , how='intersection')\n",
    "\n",
    "# Rename columns \n",
    "city_county = county_md_intersection.rename( columns = { 'GEOID_1' : 'GEOID_city', 'GEOID_2' : 'GEOID_county' })\n",
    "\n",
    "# Get idnetifiers of cities and counties\n",
    "city_county = city_county[['GEOID_city', 'GEOID_county', 'COUNTYFP', 'NAME']]"
   ]
  },
  {
   "cell_type": "code",
   "execution_count": 944,
   "metadata": {},
   "outputs": [],
   "source": [
    "# Get zip codes\n",
    "zip_codes = gpd.read_file( r\"..\\_data\\tl_2015_us_zcta510\\tl_2015_us_zcta510.shp\" )\n",
    "\n",
    "# for this case we do not need the centroids we use representative point\n",
    "# A point that is inside the polygon\n",
    "repre_places = zip_codes.representative_point()\n",
    "\n",
    "# Centroids of cities\n",
    "repre_cities = pd.DataFrame( { 'ZCTA5CE10' : zip_codes.ZCTA5CE10.values, 'Latitude_repre' : repre_places.y, 'Longitude_repre' : repre_places.x})\n",
    "\n",
    "# We generate a geopandas with Centroids\n",
    "repre_cities_geo = gpd.GeoDataFrame( repre_cities , geometry= gpd.points_from_xy(repre_cities.Longitude_repre, repre_cities.Latitude_repre))\n",
    "repre_cities_geo = repre_cities_geo.set_crs(\"EPSG:4269\")\n",
    "\n",
    "# we intersect cities centroids with counties\n",
    "zip_countylvl = gpd.overlay( repre_cities_geo , county_md , how='intersection')"
   ]
  },
  {
   "cell_type": "markdown",
   "metadata": {},
   "source": [
    "We already have every zipcode associeted with every county. Now, we want to get the zipcode median for every county."
   ]
  },
  {
   "cell_type": "code",
   "execution_count": 945,
   "metadata": {},
   "outputs": [
    {
     "name": "stdout",
     "output_type": "stream",
     "text": [
      "{20681, 21748, 21845, 21846, 21759}\n",
      "{21747, 21844, 21845}\n",
      "{21843, 21844}\n",
      "{21843}\n",
      "set()\n"
     ]
    }
   ],
   "source": [
    "# Get zipcode\n",
    "zip_countylvl['zipcode'] = zip_countylvl.ZCTA5CE10.astype(float)\n",
    "\n",
    "# Get median of zipcode at county level\n",
    "county_zip_median = zip_countylvl.groupby( ['GEOID'], as_index = False )['zipcode'].median()\n",
    "\n",
    "# Get zip median at county lvl\n",
    "county_zip_median['zipcode'] = county_zip_median.zipcode.astype(int)\n",
    "\n",
    "# # we need to check if the median zipcode exists\n",
    "# For this reason we will to \n",
    "median_zip = county_zip_median['zipcode'].tolist()\n",
    "total_zipcode = zip_countylvl.ZCTA5CE10.astype(int).tolist()\n",
    "list_error_zip = set( median_zip ).difference( total_zipcode)\n",
    "print(list_error_zip)\n",
    "\n",
    "# # We see there is some median zipcodes that do not exist in  null values in this dataset\n",
    "for error_zip in list_error_zip:\n",
    "    county_zip_median.loc[ county_zip_median.zipcode == error_zip, 'zipcode' ] = error_zip - 1\n",
    "    \n",
    "# test Again\n",
    "median_zip = county_zip_median['zipcode'].tolist()\n",
    "total_zipcode = zip_countylvl.ZCTA5CE10.astype(int).tolist()\n",
    "list_error_zip = set( median_zip ).difference( total_zipcode)\n",
    "print(list_error_zip)\n",
    "\n",
    "# # We see there is some median zipcodes that do not exist in  null values in this dataset\n",
    "for error_zip in list_error_zip:\n",
    "    county_zip_median.loc[ county_zip_median.zipcode == error_zip, 'zipcode' ] = error_zip - 1\n",
    "\n",
    "# test Again\n",
    "median_zip = county_zip_median['zipcode'].tolist()\n",
    "total_zipcode = zip_countylvl.ZCTA5CE10.astype(int).tolist()\n",
    "list_error_zip = set( median_zip ).difference( total_zipcode)\n",
    "print(list_error_zip)\n",
    "\n",
    "# # We see there is some median zipcodes that do not exist in  null values in this dataset\n",
    "for error_zip in list_error_zip:\n",
    "    county_zip_median.loc[ county_zip_median.zipcode == error_zip, 'zipcode' ] = error_zip - 1\n",
    "\n",
    "# test Again\n",
    "median_zip = county_zip_median['zipcode'].tolist()\n",
    "total_zipcode = zip_countylvl.ZCTA5CE10.astype(int).tolist()\n",
    "list_error_zip = set( median_zip ).difference( total_zipcode)\n",
    "print(list_error_zip)\n",
    "\n",
    "# # We see there is some median zipcodes that do not exist in  null values in this dataset\n",
    "for error_zip in list_error_zip:\n",
    "    county_zip_median.loc[ county_zip_median.zipcode == error_zip, 'zipcode' ] = error_zip - 1\n",
    "\n",
    "# test Again\n",
    "median_zip = county_zip_median['zipcode'].tolist()\n",
    "total_zipcode = zip_countylvl.ZCTA5CE10.astype(int).tolist()\n",
    "list_error_zip = set( median_zip ).difference( total_zipcode)\n",
    "print(list_error_zip)\n",
    "\n",
    "# Now we have no errors in zipcodes"
   ]
  },
  {
   "cell_type": "markdown",
   "metadata": {},
   "source": [
    "We need the identifier of county, cities and the median zipcode."
   ]
  },
  {
   "cell_type": "code",
   "execution_count": 946,
   "metadata": {},
   "outputs": [],
   "source": [
    "# Get all idnetifiers to merge with the main data\n",
    "cross_table = city_county.merge( county_zip_median, left_on = 'GEOID_county', right_on= 'GEOID' )\n",
    "\n",
    "# In string values\n",
    "cross_table['zipcode'] = cross_table.zipcode.astype(int).astype(str)\n",
    "\n",
    "# Rename columns\n",
    "cross_table = cross_table.rename( columns = { 'zipcode' : 'zipcode_median' } ) "
   ]
  },
  {
   "cell_type": "markdown",
   "metadata": {},
   "source": [
    "We already have the meadian zipcode for every county. "
   ]
  },
  {
   "cell_type": "markdown",
   "metadata": {},
   "source": [
    "## Getting wether data for zip median code"
   ]
  },
  {
   "cell_type": "code",
   "execution_count": 947,
   "metadata": {},
   "outputs": [],
   "source": [
    "# Install wwo-hist\n",
    "# !pip install wwo-hist\n",
    "\n",
    "from wwo_hist import retrieve_hist_data"
   ]
  },
  {
   "cell_type": "code",
   "execution_count": 948,
   "metadata": {},
   "outputs": [],
   "source": [
    "# Get zip code in a list\n",
    "zipcode_median_list = cross_table.zipcode_median.unique().tolist()"
   ]
  },
  {
   "cell_type": "code",
   "execution_count": 949,
   "metadata": {},
   "outputs": [],
   "source": [
    "# frequency = 24\n",
    "# start_date = '01-JAN-2015'\n",
    "# end_date = '31-DEC-2015'\n",
    "# api_key = 'a6e8c80275bf409c8eb140629221607'\n",
    "\n",
    "\n",
    "# # Getting data for zip\n",
    "# data = retrieve_hist_data(api_key,\n",
    "#                             zipcode_median_list,\n",
    "#                             start_date,\n",
    "#                             end_date,\n",
    "#                             frequency,\n",
    "#                             location_label = False,\n",
    "#                             export_csv = True,\n",
    "#                             store_df = True)\n"
   ]
  },
  {
   "cell_type": "code",
   "execution_count": 950,
   "metadata": {},
   "outputs": [],
   "source": [
    "# Concatenate all pdf\n",
    "all_data = pd.concat( data )\n",
    "# all_data.to_excel( r\"weather_data.xlsx\" )\n",
    "\n",
    "# Get month of every date\n",
    "all_data['month'] = all_data['date_time'].dt.month\n",
    "\n",
    "# Get year of every date\n",
    "all_data['year'] = all_data['date_time'].dt.year"
   ]
  },
  {
   "cell_type": "code",
   "execution_count": 951,
   "metadata": {
    "scrolled": true
   },
   "outputs": [],
   "source": [
    "# Converting hours to dates\n",
    "date_time_cols = [ 'moonrise', 'moonset', 'sunrise', 'sunset']\n",
    "for col in date_time_cols:\n",
    "    # Change datetimes\n",
    "    all_data[ f'{col}_hr' ] = pd.to_datetime( all_data[ f'{col}' ], format = '%I:%M %p', errors = 'coerce' )\n",
    "    all_data[ f'{col}_hr' ] = ( all_data[ f'{col}_hr' ].dt.hour + all_data[ f'{col}_hr' ].dt.minute / 60 ).round( 2 )"
   ]
  },
  {
   "cell_type": "code",
   "execution_count": 952,
   "metadata": {},
   "outputs": [],
   "source": [
    "# Drop hour time \n",
    "all_data = all_data.drop( date_time_cols + ['date_time'], axis = 1 )"
   ]
  },
  {
   "cell_type": "code",
   "execution_count": 953,
   "metadata": {},
   "outputs": [],
   "source": [
    "# Converting object columns to float columns\n",
    "float_cols = all_data.dtypes.index[:-7].tolist()\n",
    "for col in float_cols:\n",
    "    all_data[ col ] = all_data[ col ].astype( float )"
   ]
  },
  {
   "cell_type": "code",
   "execution_count": 954,
   "metadata": {},
   "outputs": [],
   "source": [
    "# Change column names\n",
    "all_data = all_data.rename( columns = { 'location' : 'zipcode' } )"
   ]
  },
  {
   "cell_type": "code",
   "execution_count": 955,
   "metadata": {},
   "outputs": [],
   "source": [
    "# Mean of wether data\n",
    "weather_data = all_data.groupby( ['zipcode', 'year', 'month',  ], as_index = False ).mean().round(2)"
   ]
  },
  {
   "cell_type": "markdown",
   "metadata": {},
   "source": [
    "## Merging All Data"
   ]
  },
  {
   "cell_type": "code",
   "execution_count": 956,
   "metadata": {},
   "outputs": [],
   "source": [
    "reshape_df.columns = [ 'GEOID',\n",
    "                        'year',\n",
    "                        'month',\n",
    "                        'alarm',\n",
    "                        'arson',\n",
    "                        'assault',\n",
    "                        'assault_with_deadly_weapon',\n",
    "                        'breaking_&_entering',\n",
    "                        'community_policing',\n",
    "                        'death',\n",
    "                        'disorder',\n",
    "                        'drugs',\n",
    "                        'emergency',\n",
    "                        'family_offense',\n",
    "                        'fire',\n",
    "                        'homicide',\n",
    "                        'kidnapping',\n",
    "                        'liquor',\n",
    "                        'missing_person',\n",
    "                        'other',\n",
    "                        'other_sexual_offense',\n",
    "                        'pedestrian_stop',\n",
    "                        'property_crime',\n",
    "                        'quality_of_life',\n",
    "                        'robbery',\n",
    "                        'sexual_assault',\n",
    "                        'sexual_offense',\n",
    "                        'theft',\n",
    "                        'theft_from_vehicle',\n",
    "                        'theft_of_vehicle',\n",
    "                        'traffic',\n",
    "                        'vehicle_recovery',\n",
    "                        'vehicle_stop',\n",
    "                        'weapons_offense']"
   ]
  },
  {
   "cell_type": "code",
   "execution_count": 957,
   "metadata": {},
   "outputs": [],
   "source": [
    "# Merge to get county code\n",
    "crime_data = reshape_df.merge( cross_table, left_on = 'GEOID', right_on = 'GEOID_city')\n",
    "\n",
    "# Sum columns at county level\n",
    "crime_data = crime_data.groupby( [ 'COUNTYFP', 'year', 'month' ] , as_index = False ).sum()\n",
    "\n",
    "# Import county shapefiles with population\n",
    "md_county = gpd.read_file( r\"..\\_data\\Maryland_Counties\\Maryland_Counties.shp\" )\n",
    "\n",
    "# We need population data\n",
    "crime_data = crime_data.merge( md_county[ [ 'CNTY_FIPS', 'POPULATION' ] ], left_on = 'COUNTYFP', right_on= 'CNTY_FIPS' )\n",
    "\n",
    "# Get percapita data\n",
    "float_cols = crime_data.dtypes.index.tolist()[3:-2]\n",
    "\n",
    "# Get percapita data\n",
    "for col in float_cols:\n",
    "    \n",
    "    crime_data[ f'{col}' ] = crime_data[ col ] * 100000 / crime_data[ 'POPULATION' ]\n",
    "    crime_data = crime_data.rename( columns = { col : f'{col}100000' } )"
   ]
  },
  {
   "cell_type": "markdown",
   "metadata": {},
   "source": [
    "Dealing with wether data"
   ]
  },
  {
   "cell_type": "code",
   "execution_count": 958,
   "metadata": {},
   "outputs": [],
   "source": [
    "# We have to drop duplicated median zipcodes\n",
    "weather_db = weather_data.drop_duplicates( subset = ['zipcode', 'year', 'month'])\n",
    "\n",
    "# Get county code with zipcode\n",
    "zip_county = cross_table.drop_duplicates( subset = 'COUNTYFP')\n",
    "weather_db = zip_county.merge(  weather_data, right_on = 'zipcode', left_on = 'zipcode_median', how = 'outer' )\n",
    "\n",
    "# Make year and month dates as object\n",
    "weather_db['year'] = weather_db['year'].astype( str )\n",
    "weather_db['month'] = weather_db['month'].astype( str )"
   ]
  },
  {
   "cell_type": "code",
   "execution_count": 959,
   "metadata": {},
   "outputs": [],
   "source": [
    "# Merge all data\n",
    "all_merge_data = crime_data.merge( weather_db, on = ['COUNTYFP', 'year', 'month'], how = 'outer')"
   ]
  },
  {
   "cell_type": "code",
   "execution_count": 960,
   "metadata": {},
   "outputs": [],
   "source": [
    "# Save data\n",
    "all_merge_data.to_excel( r'final_data.xlsx' )"
   ]
  },
  {
   "cell_type": "markdown",
   "metadata": {},
   "source": [
    "## Plots"
   ]
  },
  {
   "cell_type": "code",
   "execution_count": 961,
   "metadata": {},
   "outputs": [],
   "source": [
    "crime_cols = ['alarm100000', 'arson100000',\n",
    "       'assault100000', 'assault_with_deadly_weapon100000',\n",
    "       'breaking_&_entering100000', 'community_policing100000', 'death100000',\n",
    "       'disorder100000', 'drugs100000', 'emergency100000',\n",
    "       'family_offense100000', 'fire100000', 'homicide100000',\n",
    "       'kidnapping100000', 'liquor100000', 'missing_person100000',\n",
    "       'other100000', 'other_sexual_offense100000', 'pedestrian_stop100000',\n",
    "       'property_crime100000', 'quality_of_life100000', 'robbery100000',\n",
    "       'sexual_assault100000', 'sexual_offense100000', 'theft100000',\n",
    "       'theft_from_vehicle100000', 'theft_of_vehicle100000', 'traffic100000',\n",
    "       'vehicle_recovery100000', 'vehicle_stop100000', 'weapons_offense100000']"
   ]
  },
  {
   "cell_type": "code",
   "execution_count": 962,
   "metadata": {},
   "outputs": [],
   "source": [
    "w_cols = ['maxtempC', 'mintempC',\n",
    "       'totalSnow_cm', 'sunHour', 'uvIndex', 'moon_illumination', 'DewPointC',\n",
    "       'FeelsLikeC', 'HeatIndexC', 'WindChillC', 'WindGustKmph', 'cloudcover',\n",
    "       'humidity', 'precipMM', 'pressure', 'tempC', 'visibility',\n",
    "       'winddirDegree', 'windspeedKmph', 'moonrise_hr', 'moonset_hr',\n",
    "       'sunrise_hr', 'sunset_hr']"
   ]
  },
  {
   "cell_type": "code",
   "execution_count": 963,
   "metadata": {},
   "outputs": [],
   "source": [
    "# Generating Bins for each weather column\n",
    "for col in w_cols:\n",
    "    all_merge_data[ f'{col}_bin'] = pd.qcut(all_merge_data[col], q = 15, duplicates = 'drop', precision=2 ).apply( lambda x: x.mid )"
   ]
  },
  {
   "cell_type": "markdown",
   "metadata": {},
   "source": [
    "Inspect all possible plots with all the weather and crime variables."
   ]
  },
  {
   "cell_type": "code",
   "execution_count": 964,
   "metadata": {},
   "outputs": [],
   "source": [
    "# # Generating plots for all columns\n",
    "# for y in crime_cols:\n",
    "#     for x in w_cols:\n",
    "#         fig, ax = plt.subplots(figsize=(8, 5))\n",
    "#         point_plot = sns.pointplot(data=all_merge_data, x= f\"{x}_bin\", y= y )"
   ]
  },
  {
   "cell_type": "markdown",
   "metadata": {},
   "source": [
    "Final plots"
   ]
  },
  {
   "cell_type": "code",
   "execution_count": 965,
   "metadata": {},
   "outputs": [
    {
     "name": "stderr",
     "output_type": "stream",
     "text": [
      "c:\\python\\python38\\lib\\site-packages\\seaborn\\categorical.py:253: FutureWarning: Index.ravel returning ndarray is deprecated; in a future version this will return a view on self.\n",
      "  grouped_vals = vals.groupby(grouper)\n"
     ]
    },
    {
     "data": {
      "image/png": "[encoded data removed]",
      "text/plain": [
       "<Figure size 576x360 with 1 Axes>"
      ]
     },
     "metadata": {
      "needs_background": "light"
     },
     "output_type": "display_data"
    }
   ],
   "source": [
    "fig, ax = plt.subplots(figsize=(8, 5)) \n",
    "point_plot = sns.pointplot( data = all_merge_data, x= \"sunset_hr_bin\", y= \"theft100000\")\n",
    "\n",
    "label_ticks = []\n",
    "for tick_label in point_plot.get_xticklabels():\n",
    "    text = np.round( float( tick_label.get_text() ), 1 )\n",
    "    label_ticks.append( f'{text}')\n",
    "#     tick_label.set_rotation(90)\n",
    "\n",
    "ax.set_xticklabels( label_ticks )\n",
    "ax.set(xlabel = f'Horas de Sol', ylabel= 'Robos cada 100000 hab')\n",
    "\n",
    "fig.savefig(\"_Figures/sunset_hr_theft.png\") "
   ]
  },
  {
   "cell_type": "code",
   "execution_count": 966,
   "metadata": {},
   "outputs": [
    {
     "name": "stderr",
     "output_type": "stream",
     "text": [
      "c:\\python\\python38\\lib\\site-packages\\seaborn\\categorical.py:253: FutureWarning: Index.ravel returning ndarray is deprecated; in a future version this will return a view on self.\n",
      "  grouped_vals = vals.groupby(grouper)\n"
     ]
    },
    {
     "data": {
      "image/png": "[encoded data removed]",
      "text/plain": [
       "<Figure size 576x360 with 1 Axes>"
      ]
     },
     "metadata": {
      "needs_background": "light"
     },
     "output_type": "display_data"
    }
   ],
   "source": [
    "fig, ax = plt.subplots(figsize=(8, 5)) \n",
    "point_plot = sns.pointplot(data=all_merge_data, x= \"mintempC_bin\", y= \"property_crime100000\")\n",
    "\n",
    "label_ticks = []\n",
    "for tick_label in point_plot.get_xticklabels():\n",
    "    text = np.round( float( tick_label.get_text() ), 1 )\n",
    "    label_ticks.append( f'{text}')\n",
    "#     tick_label.set_rotation(90)\n",
    "\n",
    "ax.set_xticklabels( label_ticks )\n",
    "ax.set(xlabel = f'Temperatura Mínima', ylabel= 'Crímenes a propiedades cada 100000 hab')\n",
    "\n",
    "fig.savefig(\"_Figures/mintemp_property_crime.png\") "
   ]
  },
  {
   "cell_type": "code",
   "execution_count": 971,
   "metadata": {},
   "outputs": [
    {
     "name": "stderr",
     "output_type": "stream",
     "text": [
      "c:\\python\\python38\\lib\\site-packages\\seaborn\\categorical.py:253: FutureWarning: Index.ravel returning ndarray is deprecated; in a future version this will return a view on self.\n",
      "  grouped_vals = vals.groupby(grouper)\n"
     ]
    },
    {
     "data": {
      "image/png": "[encoded data removed]",
      "text/plain": [
       "<Figure size 576x360 with 1 Axes>"
      ]
     },
     "metadata": {
      "needs_background": "light"
     },
     "output_type": "display_data"
    }
   ],
   "source": [
    "fig, ax = plt.subplots(figsize=(8, 5)) \n",
    "point_plot = sns.pointplot(data=all_merge_data, x= \"precipMM_bin\", y= \"missing_person100000\")\n",
    "\n",
    "label_ticks = []\n",
    "for tick_label in point_plot.get_xticklabels():\n",
    "    text = np.round( float( tick_label.get_text() ), 1 )\n",
    "    label_ticks.append( f'{text}')\n",
    "\n",
    "ax.set_xticklabels(label_ticks)\n",
    "ax.set(xlabel = f'Precipitación', ylabel='Personas Desaparecidas cada 100000 hab')\n",
    "\n",
    "fig.savefig(\"_Figures/precipMM_missing_person.png\") "
   ]
  },
  {
   "cell_type": "code",
   "execution_count": 968,
   "metadata": {},
   "outputs": [
    {
     "name": "stderr",
     "output_type": "stream",
     "text": [
      "c:\\python\\python38\\lib\\site-packages\\seaborn\\categorical.py:253: FutureWarning: Index.ravel returning ndarray is deprecated; in a future version this will return a view on self.\n",
      "  grouped_vals = vals.groupby(grouper)\n"
     ]
    },
    {
     "data": {
      "image/png": "[encoded data removed]",
      "text/plain": [
       "<Figure size 576x360 with 1 Axes>"
      ]
     },
     "metadata": {
      "needs_background": "light"
     },
     "output_type": "display_data"
    }
   ],
   "source": [
    "fig, ax = plt.subplots(figsize=(8, 5)) \n",
    "point_plot = sns.pointplot(data=all_merge_data, x= \"visibility_bin\", y= \"missing_person100000\")\n",
    "\n",
    "label_ticks = []\n",
    "for tick_label in point_plot.get_xticklabels():\n",
    "    text = np.round( float( tick_label.get_text() ), 1 )\n",
    "    label_ticks.append( f'{text}')\n",
    "\n",
    "ax.set_xticklabels(label_ticks)\n",
    "ax.set(xlabel = f'Visibilidad', ylabel='Personas Perdidas cada 100000 hab')\n",
    "\n",
    "fig.savefig(\"_Figures/visibility_missing_person.png\") "
   ]
  },
  {
   "cell_type": "code",
   "execution_count": 969,
   "metadata": {},
   "outputs": [
    {
     "name": "stderr",
     "output_type": "stream",
     "text": [
      "c:\\python\\python38\\lib\\site-packages\\seaborn\\categorical.py:253: FutureWarning: Index.ravel returning ndarray is deprecated; in a future version this will return a view on self.\n",
      "  grouped_vals = vals.groupby(grouper)\n"
     ]
    },
    {
     "data": {
      "image/png": "[encoded data removed]",
      "text/plain": [
       "<Figure size 576x360 with 1 Axes>"
      ]
     },
     "metadata": {
      "needs_background": "light"
     },
     "output_type": "display_data"
    }
   ],
   "source": [
    "fig, ax = plt.subplots(figsize=(8, 5)) \n",
    "point_plot = sns.pointplot(data=all_merge_data, x= \"sunrise_hr_bin\", y= \"arson100000\")\n",
    "\n",
    "label_ticks = []\n",
    "for tick_label in point_plot.get_xticklabels():\n",
    "    text = np.round( float( tick_label.get_text() ), 1 )\n",
    "    label_ticks.append( f'{text}')\n",
    "\n",
    "ax.set_xticklabels(label_ticks)\n",
    "ax.set(xlabel = f'Hora del Amanecer', ylabel='Robos cada 100000 hab')\n",
    "\n",
    "fig.savefig(\"_Figures/sunrise_hr_arson.png\") "
   ]
  },
  {
   "cell_type": "code",
   "execution_count": 970,
   "metadata": {},
   "outputs": [
    {
     "name": "stderr",
     "output_type": "stream",
     "text": [
      "c:\\python\\python38\\lib\\site-packages\\seaborn\\categorical.py:253: FutureWarning: Index.ravel returning ndarray is deprecated; in a future version this will return a view on self.\n",
      "  grouped_vals = vals.groupby(grouper)\n"
     ]
    },
    {
     "data": {
      "image/png": "[encoded data removed]",
      "text/plain": [
       "<Figure size 576x360 with 1 Axes>"
      ]
     },
     "metadata": {
      "needs_background": "light"
     },
     "output_type": "display_data"
    }
   ],
   "source": [
    "fig, ax = plt.subplots(figsize=(8, 5)) \n",
    "point_plot = sns.pointplot(data=all_merge_data, x= \"sunrise_hr_bin\", y= \"theft100000\")\n",
    "\n",
    "label_ticks = []\n",
    "for tick_label in point_plot.get_xticklabels():\n",
    "    text = np.round( float( tick_label.get_text() ), 1 )\n",
    "    label_ticks.append( f'{text}')\n",
    "\n",
    "ax.set_xticklabels(label_ticks)\n",
    "ax.set(xlabel = f'Hora del Amanecer', ylabel='Robos cada 100000 hab')\n",
    "\n",
    "fig.savefig(\"_Figures/sunrise_hr_theft.png\") "
   ]
  }
 ],
 "metadata": {
  "hide_input": false,
  "kernelspec": {
   "display_name": "Python 3",
   "language": "python",
   "name": "python3"
  },
  "language_info": {
   "codemirror_mode": {
    "name": "ipython",
    "version": 3
   },
   "file_extension": ".py",
   "mimetype": "text/x-python",
   "name": "python",
   "nbconvert_exporter": "python",
   "pygments_lexer": "ipython3",
   "version": "3.8.6"
  },
  "toc": {
   "base_numbering": 1,
   "nav_menu": {},
   "number_sections": true,
   "sideBar": true,
   "skip_h1_title": false,
   "title_cell": "Table of Contents",
   "title_sidebar": "Contents",
   "toc_cell": false,
   "toc_position": {},
   "toc_section_display": true,
   "toc_window_display": false
  }
 },
 "nbformat": 4,
 "nbformat_minor": 4
}
