{
 "cells": [
  {
   "cell_type": "code",
   "execution_count": 6,
   "metadata": {},
   "outputs": [],
   "source": [
    "import re\n",
    "\n",
    "import pandas as pd\n",
    "import geopandas as gpd\n",
    "import numpy as np\n",
    "import json\n",
    "from bs4 import BeautifulSoup\n",
    "import requests\n",
    "import seaborn as sns\n",
    "import matplotlib.pyplot as plt\n",
    "import numpy as np\n",
    "import pandas as pd\n",
    "from sodapy import Socrata\n",
    "import geopandas as gpd"
   ]
  },
  {
   "cell_type": "code",
   "execution_count": 7,
   "metadata": {},
   "outputs": [],
   "source": [
    "# Opening JSON file\n",
    "f = open( r\"C:\\Users\\Anzony\\Documents\\GitHub\\PE1307\\PS6\\_data\\municipios.json\", encoding=\"utf8\" )\n",
    "  \n",
    "# returns JSON object as \n",
    "# a dictionary\n",
    "data = json.load(f)"
   ]
  },
  {
   "cell_type": "code",
   "execution_count": 8,
   "metadata": {},
   "outputs": [],
   "source": [
    "# Get Information from ZipCode\n",
    "# Request data\n",
    "URL = \"https://es.wikipedia.org/wiki/Anexo:Departamentos_de_la_provincia_de_Corrientes\"\n",
    "headers = {\n",
    "    \"User-Agent\": \"Mozilla/5.0 (X11; Linux x86_64; rv:60.0) Gecko/20100101 Firefox/60.0\"\n",
    "}\n",
    "web_page = requests.get(URL, headers=headers)\n",
    "df = pd.read_html( web_page.content )[0]\n",
    "# Keep only department and cabecera"
   ]
  },
  {
   "cell_type": "code",
   "execution_count": 11,
   "metadata": {},
   "outputs": [],
   "source": [
    "# Cleaning names\n",
    "rows_filter = df['Cabecera'].str.contains('\\(')\n",
    "df['Cabecera_clean'] = df[ 'Cabecera' ].copy()\n",
    "df.loc[ rows_filter, 'Cabecera_clean'] = df.loc[ rows_filter, 'Cabecera' ].apply( lambda x: re.match( r\"(?<=).*(?= \\()\", x )[0] )\n",
    "\n",
    "# Selecting Columns\n",
    "df = df[['Departamento', 'Cabecera_clean']] \\\n",
    "    .rename(columns = { 'Cabecera_clean' : 'Cabecera' }) \\\n",
    "    .copy()\n",
    "\n",
    "# Adding country\n",
    "df['Country'] = \"Argentina\"\n",
    "# Adding Province\n",
    "df['Province'] = \"Corrientes\"\n",
    "df = df[[ 'Country', 'Province', 'Departamento', 'Cabecera']]\n",
    "\n",
    "# exporting file\n",
    "df.to_excel( r\"_data/dpt_cabecera.xlsx\", index= False )"
   ]
  }
 ],
 "metadata": {
  "hide_input": false,
  "kernelspec": {
   "display_name": "Python 3",
   "language": "python",
   "name": "python3"
  },
  "language_info": {
   "codemirror_mode": {
    "name": "ipython",
    "version": 3
   },
   "file_extension": ".py",
   "mimetype": "text/x-python",
   "name": "python",
   "nbconvert_exporter": "python",
   "pygments_lexer": "ipython3",
   "version": "3.8.6"
  },
  "toc": {
   "base_numbering": 1,
   "nav_menu": {},
   "number_sections": true,
   "sideBar": true,
   "skip_h1_title": false,
   "title_cell": "Table of Contents",
   "title_sidebar": "Contents",
   "toc_cell": false,
   "toc_position": {},
   "toc_section_display": true,
   "toc_window_display": false
  }
 },
 "nbformat": 4,
 "nbformat_minor": 4
}
